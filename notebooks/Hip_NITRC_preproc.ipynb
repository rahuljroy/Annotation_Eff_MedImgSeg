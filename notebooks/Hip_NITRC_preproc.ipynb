{
 "cells": [
  {
   "cell_type": "code",
   "execution_count": 1,
   "metadata": {},
   "outputs": [],
   "source": [
    "import numpy as np\n",
    "import matplotlib.pyplot as plt\n",
    "import nibabel as nib\n",
    "import os\n",
    "import statistics\n",
    "import cv2\n",
    "import imageio\n",
    "from medpy.io import load\n",
    "from medpy.io import save\n",
    "imageio.plugins.freeimage.download()"
   ]
  },
  {
   "cell_type": "code",
   "execution_count": 8,
   "metadata": {},
   "outputs": [],
   "source": [
    "# Omitting the posterior tissue in the segmentation\n",
    "main_path = '../data/HFH/'\n",
    "img_files = [f for f in sorted(os.listdir(main_path+'Processed_train')) if f.endswith('.gz')]\n",
    "seg_files = [f for f in sorted(os.listdir(main_path+'Labels')) if f.endswith('.img')]\n"
   ]
  },
  {
   "cell_type": "code",
   "execution_count": 9,
   "metadata": {},
   "outputs": [
    {
     "output_type": "execute_result",
     "data": {
      "text/plain": [
       "['HFH_001_brain.nii.gz',\n",
       " 'HFH_002_brain.nii.gz',\n",
       " 'HFH_003_brain.nii.gz',\n",
       " 'HFH_004_brain.nii.gz',\n",
       " 'HFH_005_brain.nii.gz',\n",
       " 'HFH_006_brain.nii.gz',\n",
       " 'HFH_007_brain.nii.gz',\n",
       " 'HFH_008_brain.nii.gz',\n",
       " 'HFH_009_brain.nii.gz',\n",
       " 'HFH_010_brain.nii.gz',\n",
       " 'HFH_011_brain.nii.gz',\n",
       " 'HFH_012_brain.nii.gz',\n",
       " 'HFH_013_brain.nii.gz',\n",
       " 'HFH_014_brain.nii.gz',\n",
       " 'HFH_015_brain.nii.gz',\n",
       " 'HFH_016_brain.nii.gz',\n",
       " 'HFH_017_brain.nii.gz',\n",
       " 'HFH_018_brain.nii.gz',\n",
       " 'HFH_019_brain.nii.gz',\n",
       " 'HFH_020_brain.nii.gz',\n",
       " 'HFH_021_brain.nii.gz',\n",
       " 'HFH_022_brain.nii.gz',\n",
       " 'HFH_023_brain.nii.gz',\n",
       " 'HFH_024_brain.nii.gz',\n",
       " 'HFH_025_brain.nii.gz']"
      ]
     },
     "metadata": {},
     "execution_count": 9
    }
   ],
   "source": [
    "img_files"
   ]
  },
  {
   "cell_type": "code",
   "execution_count": 11,
   "metadata": {},
   "outputs": [],
   "source": [
    "count = 0\n",
    "for i in range(len(seg_files)):\n",
    "#     img = nib.load(main_path+'imagesTr/'+ i)\n",
    "    filename_seg = os.path.join(main_path, \"Labels\", seg_files[i])\n",
    "    # filename_img = os.path.join(main_path, \"Train\", img_files[i])\n",
    "    seg_data, seg_header = load(filename_seg)\n",
    "    # img_data, img_header = load(filename_img)\n",
    "    # seg_data[seg_data == 1] = 0\n",
    "    seg_data[seg_data == 2] = 1\n",
    "    # print(np.unique(seg_data))\n",
    "\n",
    "    # cv2.imshow('1',seg)\n",
    "    # cv2.waitKey (0)\n",
    "    # print(seg_data.shape, img_data.shape)\n",
    "    # print(seg_data.dtype, img_data.dtype)\n",
    "    # seg_data = seg_data.astype('float64')\n",
    "    # seg_data /= np.max(seg_data)/255\n",
    "    # new_imgfile = os.path.join(main_path, \"Processed_train\", img_files[i])\n",
    "    new_imgfile = os.path.join(main_path, \"Labels_full\", seg_files[i])\n",
    "    save(seg_data, new_imgfile, seg_header)\n",
    "    # for j in range(seg_data.shape[1]):\n",
    "    #     if (len(np.unique(seg_data[:,j,:]))):\n",
    "    #         count+=1\n",
    "    # print(np.max(img_data), np.min(img_data))\n",
    "    # plt.imshow(seg_data[:,60,:].T)\n",
    "    # plt.show()\n",
    "    # plt.imshow(img_data[:,60,:].T)\n",
    "    # plt.show()\n",
    "# print(count)"
   ]
  },
  {
   "cell_type": "code",
   "execution_count": null,
   "metadata": {},
   "outputs": [],
   "source": []
  }
 ],
 "metadata": {
  "kernelspec": {
   "display_name": "Python 3",
   "language": "python",
   "name": "python3"
  },
  "language_info": {
   "codemirror_mode": {
    "name": "ipython",
    "version": 3
   },
   "file_extension": ".py",
   "mimetype": "text/x-python",
   "name": "python",
   "nbconvert_exporter": "python",
   "pygments_lexer": "ipython3",
   "version": "3.6.9-final"
  }
 },
 "nbformat": 4,
 "nbformat_minor": 4
}